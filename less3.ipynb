{
 "cells": [
  {
   "cell_type": "code",
   "execution_count": 1,
   "metadata": {},
   "outputs": [
    {
     "data": {
      "text/plain": [
       "array([[ 1.        ,  1.        ,  1.        ,  1.        ,  1.        ,\n",
       "         1.        ,  1.        ,  1.        ,  1.        ,  1.        ],\n",
       "       [-0.57142857, -0.57142857, -0.21428571, -0.57142857,  0.14285714,\n",
       "        -0.92857143,  0.85714286,  2.64285714, -0.57142857, -0.21428571],\n",
       "       [-0.57142857, -0.57142857, -0.21428571, -0.57142857,  0.14285714,\n",
       "        -0.92857143,  0.85714286,  2.64285714, -0.57142857, -0.21428571],\n",
       "       [-0.57142857, -0.57142857, -0.21428571, -0.57142857,  0.14285714,\n",
       "        -0.92857143,  0.85714286,  2.64285714, -0.57142857, -0.21428571]])"
      ]
     },
     "execution_count": 1,
     "metadata": {},
     "output_type": "execute_result"
    }
   ],
   "source": [
    "import numpy as np\n",
    "\n",
    "X = np.array([[1, 1, 1, 1, 1, 1, 1, 1, 1, 1],\n",
    "              [1, 1, 2, 1, 3, 0, 5, 10, 1, 2],  # стаж\n",
    "              [500, 700, 750, 600, 1450,        # средняя стоимость занятия\n",
    "               800, 1500, 2000, 450, 1000],\n",
    "              [1, 1, 2, 1, 2, 1, 3, 3, 1, 2]], dtype = np.float64) # квалификация репетитора\n",
    "\n",
    "y = np.array([0, 0, 1, 0, 1, 0, 1, 0, 1, 1])\n",
    "\n",
    "def calc_std_feat(x):\n",
    "    res = (x - x.mean()) / x.std()\n",
    "    return res\n",
    "\n",
    "X_st = X.copy()\n",
    "X_st[1:] = calc_std_feat(X[1, :])\n",
    "X_st"
   ]
  },
  {
   "cell_type": "code",
   "execution_count": 2,
   "metadata": {},
   "outputs": [],
   "source": [
    "def calc_logloss(y, y_pred):\n",
    "    err = np.mean(- y * np.log(y_pred) - (1.0 - y) * np.log(1.0 - y_pred))\n",
    "    return err\n",
    "\n",
    "def sigmoid(z):\n",
    "    res = 1 / (1 + np.exp(-z))\n",
    "    return res"
   ]
  },
  {
   "cell_type": "markdown",
   "metadata": {},
   "source": [
    "#### Подберите аргументы функции eval_LR_model для логистической регрессии таким образом, чтобы log loss был минимальным."
   ]
  },
  {
   "cell_type": "code",
   "execution_count": 3,
   "metadata": {},
   "outputs": [
    {
     "name": "stdout",
     "output_type": "stream",
     "text": [
      "100 [ 0.46008808 -0.35234117  0.43361167  1.30895299] 0.8840532931154783\n",
      "200 [ 0.39559962 -0.52659349  0.25935935  1.13470066] 0.7880035088949489\n",
      "300 [ 0.32167539 -0.65435887  0.13159397  1.00693529] 0.7326577682657607\n",
      "400 [ 0.25396447 -0.73349665  0.05245618  0.9277975 ] 0.708597015438033\n",
      "500 [ 0.1985006  -0.77575468  0.01019816  0.88553948] 0.699879089871958\n",
      "600 [ 0.15473729 -0.79666194 -0.0107091   0.86463222] 0.6965642485311496\n",
      "700 [ 0.12053441 -0.80670478 -0.02075194  0.85458938] 0.6950642075693991\n",
      "800 [ 0.09386785 -0.81147621 -0.02552337  0.84981795] 0.694274487693436\n",
      "900 [ 0.07309249 -0.81373317 -0.02778033  0.84756099] 0.6938228285388804\n",
      "1000 [ 0.05691175 -0.81479863 -0.02884579  0.84649553] 0.6935550558571459\n"
     ]
    }
   ],
   "source": [
    "def eval_LR_model(X, y, iterations, alpha=1e-4):\n",
    "    np.random.seed(42)\n",
    "    w = np.random.randn(X.shape[0])\n",
    "    n = X.shape[1]\n",
    "    for i in range(1, iterations + 1):\n",
    "        z = np.dot(w, X)\n",
    "        y_pred = sigmoid(z)\n",
    "        err = calc_logloss(y, y_pred)\n",
    "        w -= alpha * (1/n * np.dot((y_pred - y), X.T))\n",
    "        if i % (iterations / 10) == 0:\n",
    "            print(i, w, err)\n",
    "    return w\n",
    "\n",
    "w = eval_LR_model(X_st, y, iterations=1000, alpha=1e-2)"
   ]
  },
  {
   "cell_type": "code",
   "execution_count": 4,
   "metadata": {
    "scrolled": true
   },
   "outputs": [
    {
     "name": "stdout",
     "output_type": "stream",
     "text": [
      "1000000 [-1.04947588e-16 -8.15748999e-01 -2.97961597e-02  8.45545159e-01] 0.6931471805599453\n",
      "2000000 [-1.04947588e-16 -8.15748999e-01 -2.97961597e-02  8.45545159e-01] 0.6931471805599453\n",
      "3000000 [-1.04947588e-16 -8.15748999e-01 -2.97961597e-02  8.45545159e-01] 0.6931471805599453\n",
      "4000000 [-1.04947588e-16 -8.15748999e-01 -2.97961597e-02  8.45545159e-01] 0.6931471805599453\n",
      "5000000 [-1.04947588e-16 -8.15748999e-01 -2.97961597e-02  8.45545159e-01] 0.6931471805599453\n",
      "6000000 [-1.04947588e-16 -8.15748999e-01 -2.97961597e-02  8.45545159e-01] 0.6931471805599453\n",
      "7000000 [-1.04947588e-16 -8.15748999e-01 -2.97961597e-02  8.45545159e-01] 0.6931471805599453\n",
      "8000000 [-1.04947588e-16 -8.15748999e-01 -2.97961597e-02  8.45545159e-01] 0.6931471805599453\n",
      "9000000 [-1.04947588e-16 -8.15748999e-01 -2.97961597e-02  8.45545159e-01] 0.6931471805599453\n",
      "10000000 [-1.04947588e-16 -8.15748999e-01 -2.97961597e-02  8.45545159e-01] 0.6931471805599453\n"
     ]
    }
   ],
   "source": [
    "w = eval_LR_model(X_st, y, iterations=10000000, alpha=1e-3)"
   ]
  },
  {
   "cell_type": "code",
   "execution_count": 5,
   "metadata": {},
   "outputs": [
    {
     "name": "stdout",
     "output_type": "stream",
     "text": [
      "1000 [ 0.05691175 -0.81479863 -0.02884579  0.84649553] 0.6935550558571459\n",
      "2000 [ 0.00465763 -0.81574849 -0.02979565  0.84554567] 0.6931499058558985\n",
      "3000 [ 3.81126950e-04 -8.15748999e-01 -2.97961594e-02  8.45545159e-01] 0.6931471988082919\n",
      "4000 [ 3.11870302e-05 -8.15748999e-01 -2.97961597e-02  8.45545159e-01] 0.6931471806821342\n",
      "5000 [ 2.55198654e-06 -8.15748999e-01 -2.97961597e-02  8.45545159e-01] 0.6931471805607636\n",
      "6000 [ 2.08825119e-07 -8.15748999e-01 -2.97961597e-02  8.45545159e-01] 0.6931471805599507\n",
      "7000 [ 1.70878372e-08 -8.15748999e-01 -2.97961597e-02  8.45545159e-01] 0.6931471805599454\n",
      "8000 [ 1.39827131e-09 -8.15748999e-01 -2.97961597e-02  8.45545159e-01] 0.6931471805599452\n",
      "9000 [ 1.14418352e-10 -8.15748999e-01 -2.97961597e-02  8.45545159e-01] 0.6931471805599453\n",
      "10000 [ 9.36264476e-12 -8.15748999e-01 -2.97961597e-02  8.45545159e-01] 0.6931471805599452\n"
     ]
    }
   ],
   "source": [
    "w = eval_LR_model(X_st, y, iterations=10000, alpha=1e-2)"
   ]
  },
  {
   "cell_type": "markdown",
   "metadata": {},
   "source": [
    "***Вывод:*** оптимальные значения $iter=10000, \\alpha=0.01$"
   ]
  },
  {
   "cell_type": "markdown",
   "metadata": {},
   "source": [
    "#### Создайте функцию calc_pred_proba, возвращающую предсказанную вероятность класса 1 (на вход подаются веса, которые уже посчитаны функцией eval_LR_model и X, на выходе - массив y_pred_proba)."
   ]
  },
  {
   "cell_type": "code",
   "execution_count": 6,
   "metadata": {},
   "outputs": [
    {
     "data": {
      "text/plain": [
       "array([0.5, 0.5, 0.5, 0.5, 0.5, 0.5, 0.5, 0.5, 0.5, 0.5])"
      ]
     },
     "execution_count": 6,
     "metadata": {},
     "output_type": "execute_result"
    }
   ],
   "source": [
    "def calc_pred_proba(w, X):\n",
    "    y_pred_proba = sigmoid(np.dot(w,X))\n",
    "    return np.array(y_pred_proba, dtype = np.float64)\n",
    "\n",
    "y_pred_proba = calc_pred_proba(w, X_st)\n",
    "y_pred_proba"
   ]
  },
  {
   "cell_type": "markdown",
   "metadata": {},
   "source": [
    "#### Создайте функцию calc_pred, возвращающую предсказанный класс (на вход подаются веса, которые уже посчитаны функцией eval_LR_model и X, на выходе - массив y_pred)."
   ]
  },
  {
   "cell_type": "code",
   "execution_count": 7,
   "metadata": {},
   "outputs": [
    {
     "data": {
      "text/plain": [
       "[1, 1, 1, 1, 1, 1, 1, 1, 1, 1]"
      ]
     },
     "execution_count": 7,
     "metadata": {},
     "output_type": "execute_result"
    }
   ],
   "source": [
    "def calc_pred(w, X):\n",
    "    y_pred_proba = calc_pred_proba(w,X)\n",
    "    y_pred = []\n",
    "                      \n",
    "    for y in y_pred_proba:\n",
    "        if y > 0.5:\n",
    "            y_pred.append(1)\n",
    "        else:\n",
    "            y_pred.append(0)\n",
    "    \n",
    "    return y_pred\n",
    "\n",
    "y_pred = calc_pred(w, X_st)\n",
    "y_pred"
   ]
  },
  {
   "cell_type": "markdown",
   "metadata": {},
   "source": [
    "#### Посчитайте accuracy, матрицу ошибок, precision и recall, а также F1-score."
   ]
  },
  {
   "cell_type": "code",
   "execution_count": 8,
   "metadata": {},
   "outputs": [
    {
     "data": {
      "text/plain": [
       "0.5"
      ]
     },
     "execution_count": 8,
     "metadata": {},
     "output_type": "execute_result"
    }
   ],
   "source": [
    "def accuracy(y, y_pred):\n",
    "    return 1/len(y)*np.sum([1 for i,y_p in enumerate(y_pred) if y_p == y[i]])\n",
    "\n",
    "accuracy(y, y_pred)"
   ]
  },
  {
   "cell_type": "code",
   "execution_count": 9,
   "metadata": {},
   "outputs": [
    {
     "name": "stdout",
     "output_type": "stream",
     "text": [
      "TP: 5  TN: 0\n",
      "FP: 5  FN: 0\n"
     ]
    }
   ],
   "source": [
    "def err_matrix(y, y_pred):\n",
    "    matrix = [[0,0],[0,0]]\n",
    "    for i, y_p in enumerate(y_pred):\n",
    "        if y_p == 1 and y_p == y[i]:\n",
    "            matrix[0][0] += 1\n",
    "        elif y_p == 0 and y_p == y[i]:\n",
    "            matrix[0][1] += 1\n",
    "        elif y_p == 1 and y_p != y[i]:\n",
    "            matrix[1][0] += 1\n",
    "        elif y_p == 0 and y_p != y[i]:\n",
    "            matrix[1][1] += 1\n",
    "    return matrix\n",
    "\n",
    "m = err_matrix(y,y_pred)\n",
    "\n",
    "print(f'TP: {m[0][0]}  TN: {m[0][1]}\\nFP: {m[1][0]}  FN: {m[1][1]}')"
   ]
  },
  {
   "cell_type": "code",
   "execution_count": 10,
   "metadata": {},
   "outputs": [
    {
     "name": "stdout",
     "output_type": "stream",
     "text": [
      "Точность: 0.5\n",
      "Полнота: 1.0\n"
     ]
    }
   ],
   "source": [
    "def precision(y,y_pred):\n",
    "    Err = err_matrix(y, y_pred)\n",
    "    return Err[0][0]/(Err[0][0]+Err[1][0])\n",
    "\n",
    "def recall(y, y_pred):\n",
    "    Err = err_matrix(y, y_pred)\n",
    "    return Err[0][0]/(Err[0][0]+Err[1][1])\n",
    "\n",
    "p = precision(y,y_pred)\n",
    "r = recall(y,y_pred)\n",
    "\n",
    "print(f'Точность: {p}\\nПолнота: {r}')"
   ]
  },
  {
   "cell_type": "code",
   "execution_count": 11,
   "metadata": {},
   "outputs": [
    {
     "data": {
      "text/plain": [
       "0.6666666666666666"
      ]
     },
     "execution_count": 11,
     "metadata": {},
     "output_type": "execute_result"
    }
   ],
   "source": [
    "def F1(p,r):\n",
    "    return 2*p*r/(p+r)\n",
    "\n",
    "F1(p,r)"
   ]
  },
  {
   "cell_type": "markdown",
   "metadata": {},
   "source": [
    "#### Могла ли модель переобучиться? Почему?\n",
    "\n",
    "По полученным результатам сложно говорить о фактическом переобучении, тк точность довольно низкая для задач классификации, но, по-моему мнению, в силу своей простоты модель имеет склонность к переобучению на основании малого размера датасета, вследствии чего веса могут быть недостаточно точны для неизвестных данных."
   ]
  },
  {
   "cell_type": "markdown",
   "metadata": {},
   "source": [
    "#### *Создайте функции eval_LR_model_l1 и eval_LR_model_l2 с применением L1 и L2 регуляризации соответственно."
   ]
  },
  {
   "cell_type": "code",
   "execution_count": 16,
   "metadata": {},
   "outputs": [
    {
     "name": "stdout",
     "output_type": "stream",
     "text": [
      "1000 [ 0.05687429 -0.81469184 -0.028847    0.84640232] 0.6935545307876223\n",
      "2000 [ 0.00461783 -0.81557471 -0.02972987  0.84531945] 0.6931498596284236\n",
      "3000 [ 3.41143725e-04 -8.15508554e-01 -2.96637150e-02  8.45185603e-01] 0.6931471952111335\n",
      "4000 [ 5.72072512e-08 -8.15441888e-01 -2.95970486e-02  8.45052270e-01] 0.6931471805821677\n",
      "5000 [ 5.06472161e-08 -8.15375221e-01 -2.95303819e-02  8.44918936e-01] 0.6931471805821678\n",
      "6000 [ 5.01104185e-08 -8.15308555e-01 -2.94637152e-02  8.44785603e-01] 0.6931471805821678\n",
      "7000 [ 5.00664932e-08 -8.15241888e-01 -2.93970486e-02  8.44652270e-01] 0.693147180582168\n",
      "8000 [ 5.00628989e-08 -8.15175221e-01 -2.93303819e-02  8.44518936e-01] 0.6931471805821677\n",
      "9000 [ 5.00626048e-08 -8.15108555e-01 -2.92637152e-02  8.44385603e-01] 0.6931471805821678\n",
      "10000 [ 5.00625807e-08 -8.15041888e-01 -2.91970486e-02  8.44252270e-01] 0.6931471805821678\n"
     ]
    },
    {
     "data": {
      "text/plain": [
       "array([ 5.00625807e-08, -8.15041888e-01, -2.91970486e-02,  8.44252270e-01])"
      ]
     },
     "execution_count": 16,
     "metadata": {},
     "output_type": "execute_result"
    }
   ],
   "source": [
    "def eval_LR_model_l1(X, y, iterations, alpha=1e-4, lambda_ = 1e-8):\n",
    "    np.random.seed(42)\n",
    "    w = np.random.randn(X.shape[0])\n",
    "    n = X.shape[1]\n",
    "    for i in range(1, iterations + 1):\n",
    "        z = np.dot(w, X)\n",
    "        y_pred = sigmoid(z)\n",
    "        err = calc_logloss(y, y_pred)\n",
    "        w -= alpha * (1/n * np.dot((y_pred - y), X.T) + lambda_ * w/np.abs(w))\n",
    "        if i % (iterations / 10) == 0:\n",
    "            print(i, w, err)\n",
    "    return w\n",
    "\n",
    "eval_LR_model_l1(X_st, y, iterations=10000, alpha=1e-2, lambda_=1e-5)"
   ]
  },
  {
   "cell_type": "code",
   "execution_count": 17,
   "metadata": {},
   "outputs": [
    {
     "name": "stdout",
     "output_type": "stream",
     "text": [
      "1000 [ 0.05689956 -0.81463574 -0.02884007  0.84632619] 0.6935548812735923\n",
      "2000 [ 0.0046557  -0.81542225 -0.02978373  0.84520752] 0.69314990359727\n",
      "3000 [ 3.80892531e-04 -8.15259696e-01 -2.97782871e-02  8.45037984e-01] 0.6931471987858582\n",
      "4000 [ 3.11615995e-05 -8.15096661e-01 -2.97723323e-02  8.44868993e-01] 0.6931471806819353\n",
      "5000 [ 2.54939438e-06 -8.14933658e-01 -2.97663784e-02  8.44700036e-01] 0.6931471805607619\n",
      "6000 [ 2.08571184e-07 -8.14770687e-01 -2.97604257e-02  8.44531113e-01] 0.6931471805599507\n",
      "7000 [ 1.70636364e-08 -8.14607749e-01 -2.97544742e-02  8.44362224e-01] 0.6931471805599454\n",
      "8000 [ 1.39601104e-09 -8.14444844e-01 -2.97485239e-02  8.44193368e-01] 0.6931471805599454\n",
      "9000 [ 1.14210474e-10 -8.14281971e-01 -2.97425748e-02  8.44024546e-01] 0.6931471805599454\n",
      "10000 [ 9.34374284e-12 -8.14119131e-01 -2.97366269e-02  8.43855758e-01] 0.6931471805599454\n"
     ]
    },
    {
     "data": {
      "text/plain": [
       "array([ 9.34374284e-12, -8.14119131e-01, -2.97366269e-02,  8.43855758e-01])"
      ]
     },
     "execution_count": 17,
     "metadata": {},
     "output_type": "execute_result"
    }
   ],
   "source": [
    "def eval_LR_model_l2(X, y, iterations, alpha=1e-4, lambda_ = 1e-8):\n",
    "    np.random.seed(42)\n",
    "    w = np.random.randn(X.shape[0])\n",
    "    n = X.shape[1]\n",
    "    for i in range(1, iterations + 1):\n",
    "        z = np.dot(w, X)\n",
    "        y_pred = sigmoid(z)\n",
    "        err = calc_logloss(y, y_pred)\n",
    "        w -= alpha * (1/n * np.dot((y_pred - y), X.T) + 2 * lambda_ * w)\n",
    "        if i % (iterations / 10) == 0:\n",
    "            print(i, w, err)\n",
    "    return w\n",
    "\n",
    "eval_LR_model_l2(X_st, y, iterations=10000, alpha=1e-2, lambda_=1e-5)"
   ]
  },
  {
   "cell_type": "code",
   "execution_count": null,
   "metadata": {},
   "outputs": [],
   "source": []
  }
 ],
 "metadata": {
  "kernelspec": {
   "display_name": "Python 3",
   "language": "python",
   "name": "python3"
  },
  "language_info": {
   "codemirror_mode": {
    "name": "ipython",
    "version": 3
   },
   "file_extension": ".py",
   "mimetype": "text/x-python",
   "name": "python",
   "nbconvert_exporter": "python",
   "pygments_lexer": "ipython3",
   "version": "3.8.5"
  }
 },
 "nbformat": 4,
 "nbformat_minor": 4
}
